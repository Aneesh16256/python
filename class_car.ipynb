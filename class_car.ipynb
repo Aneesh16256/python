{
 "cells": [
  {
   "cell_type": "code",
   "execution_count": 8,
   "metadata": {},
   "outputs": [],
   "source": [
    "class Car:\n",
    "    def car(self,make,model):\n",
    "        self.make=make\n",
    "        self.model=model\n",
    "    def get_details(self):\n",
    "        print(f\"Car make: {self.make}, model: {self.model}\")"
   ]
  },
  {
   "cell_type": "code",
   "execution_count": 9,
   "metadata": {},
   "outputs": [],
   "source": [
    "class Car:\n",
    "    def __init__(self, make, model):\n",
    "        self.make = make\n",
    "        self.model = model\n",
    "    def show_details(self):\n",
    "        print(f\"Car make: {self.make}, model: {self.model}\")\n",
    "    \n"
   ]
  },
  {
   "cell_type": "code",
   "execution_count": 10,
   "metadata": {},
   "outputs": [
    {
     "name": "stdout",
     "output_type": "stream",
     "text": [
      "Toyota corolla\n"
     ]
    }
   ],
   "source": [
    "car1= Car(\"Toyota\",\"corolla\")\n",
    "print(car1.make,car1.model)"
   ]
  },
  {
   "cell_type": "code",
   "execution_count": 11,
   "metadata": {},
   "outputs": [],
   "source": [
    "class Car:\n",
    "    def __init__(self, make, model):\n",
    "        self.make = make\n",
    "        self.model = model\n",
    "    def show_details(self):\n",
    "        print(f\"Car make: {self.make}, model: {self.model}\")\n",
    "class Toy_car(Car):\n",
    "    def __init__(self,make,registration):\n",
    "        super().__init__(make,registration)\n",
    "        self.registration=registration\n",
    "    def get_registaration(self):\n",
    "        print(\"toy_car registration: \",self.registration)\n"
   ]
  },
  {
   "cell_type": "code",
   "execution_count": 12,
   "metadata": {},
   "outputs": [
    {
     "name": "stdout",
     "output_type": "stream",
     "text": [
      "Car make: toyota, model: corolla\n",
      "toy_car registration:  kerala\n"
     ]
    }
   ],
   "source": [
    "car1=Car(\"toyota\",\"corolla\")\n",
    "car1.show_details()\n",
    "car2=Toy_car(\"self\",\"kerala\")\n",
    "car2.get_registaration()"
   ]
  }
 ],
 "metadata": {
  "kernelspec": {
   "display_name": "Python 3",
   "language": "python",
   "name": "python3"
  },
  "language_info": {
   "codemirror_mode": {
    "name": "ipython",
    "version": 3
   },
   "file_extension": ".py",
   "mimetype": "text/x-python",
   "name": "python",
   "nbconvert_exporter": "python",
   "pygments_lexer": "ipython3",
   "version": "3.10.8"
  }
 },
 "nbformat": 4,
 "nbformat_minor": 2
}

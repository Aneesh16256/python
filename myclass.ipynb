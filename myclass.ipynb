{
 "cells": [
  {
   "cell_type": "code",
   "execution_count": 82,
   "metadata": {},
   "outputs": [],
   "source": [
    "class Person:\n",
    "\n",
    "    def __init__(aneesh, name, age):\n",
    "        aneesh.name = name\n",
    "        aneesh.age = age\n",
    "        print(\"Init called\")\n",
    "\n",
    "    def greet(self):\n",
    "        print(\"Hello \", self.name)"
   ]
  },
  {
   "cell_type": "code",
   "execution_count": 83,
   "metadata": {},
   "outputs": [
    {
     "name": "stdout",
     "output_type": "stream",
     "text": [
      "Init called\n",
      "Anish 12\n",
      "Init called\n",
      "Amal 32\n",
      "Hello  Amal\n",
      "Hello  Anish\n"
     ]
    }
   ],
   "source": [
    "p1 = Person(\"Aneesh\", 12)\n",
    "print(p1.name, p1.age)\n",
    "\n",
    "p2 = Person(\"Amal\", 32)\n",
    "print(p2.name, p2.age)\n",
    "\n",
    "p2.greet()\n",
    "p1.greet()"
   ]
  },
  {
   "cell_type": "code",
   "execution_count": 89,
   "metadata": {},
   "outputs": [],
   "source": [
    "class Base:\n",
    "    def __init__(self, name) -> None:\n",
    "        self.name = name\n",
    "    \n",
    "    def print_address(self):\n",
    "        print(\"Address:Name = \", self.name)\n",
    "\n",
    "    def greet(self):\n",
    "        print(\"Good Morning \", self.name)\n",
    "\n",
    "class Child(Base):\n",
    "    def __init__(self, name, place) -> None:\n",
    "        super().__init__(name)\n",
    "        self.place = place\n",
    "\n",
    "    def get_place(self):\n",
    "        print(\"Place = \", self.place)\n",
    "class Grandchild(Base):\n",
    "    def __init__(self, name, clg) -> None:\n",
    "        Base.__init__(self,name)\n",
    "        self.clg = clg\n",
    "\n",
    "    def get_clg(self):\n",
    "        print(\"clg= \", self.clg)\n",
    "\n",
    "\n",
    "        "
   ]
  },
  {
   "cell_type": "code",
   "execution_count": 90,
   "metadata": {},
   "outputs": [
    {
     "name": "stdout",
     "output_type": "stream",
     "text": [
      "Address:Name =  Sachin\n",
      "Good Morning  Sachin\n",
      "--------------------\n",
      "Address:Name =  Arjun Sachin\n",
      "Good Morning  Arjun Sachin\n",
      "Place =  Mumbai\n",
      "clg=  college of engineering attingal\n"
     ]
    }
   ],
   "source": [
    "b = Base(\"Sachin\")\n",
    "b.print_address()\n",
    "b.greet()\n",
    "print(\"--\"*10)\n",
    "\n",
    "d = Child(\"Arjun Sachin\", \"Mumbai\")\n",
    "d.print_address()\n",
    "d.greet()\n",
    "d.get_place()\n",
    "\n",
    "e = Grandchild(\"Arjun Sachin\", \"college of engineering attingal\")\n",
    "e.get_clg()"
   ]
  },
  {
   "cell_type": "code",
   "execution_count": 4,
   "metadata": {},
   "outputs": [
    {
     "name": "stdout",
     "output_type": "stream",
     "text": [
      "Aneesh 25000\n"
     ]
    }
   ],
   "source": [
    "class Employ:\n",
    "    name=\"Aneesh\"\n",
    "    salary__=25000\n",
    "    print(name,salary__)\n"
   ]
  },
  {
   "cell_type": "code",
   "execution_count": 5,
   "metadata": {},
   "outputs": [
    {
     "data": {
      "text/plain": [
       "('Aneesh', 25000)"
      ]
     },
     "execution_count": 5,
     "metadata": {},
     "output_type": "execute_result"
    }
   ],
   "source": [
    "p1=Employ\n",
    "p1.name,p1.salary__"
   ]
  }
 ],
 "metadata": {
  "kernelspec": {
   "display_name": "Python 3",
   "language": "python",
   "name": "python3"
  },
  "language_info": {
   "codemirror_mode": {
    "name": "ipython",
    "version": 3
   },
   "file_extension": ".py",
   "mimetype": "text/x-python",
   "name": "python",
   "nbconvert_exporter": "python",
   "pygments_lexer": "ipython3",
   "version": "3.10.8"
  }
 },
 "nbformat": 4,
 "nbformat_minor": 2
}

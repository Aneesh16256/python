{
 "cells": [
  {
   "cell_type": "code",
   "execution_count": 11,
   "metadata": {},
   "outputs": [],
   "source": [
    "class School:\n",
    "    def __init__(self,name,place):\n",
    "        self.name=name\n",
    "        self.place=place\n",
    "    def teacher_details(self):\n",
    "        print(f\"teacher name: {self.name}  place: {self.place}\")\n",
    "class Student(School):\n",
    "    def __init__(self, name, subject):\n",
    "        super().__init__(name, subject)\n",
    "        self.subject=subject\n",
    "    def student_details(self):\n",
    "        print(f\"student favourite subject:{self.subject}\")"
   ]
  },
  {
   "cell_type": "code",
   "execution_count": 12,
   "metadata": {},
   "outputs": [
    {
     "name": "stdout",
     "output_type": "stream",
     "text": [
      "teacher name: sreenu  place: tvm\n",
      "student favourite subject:maths\n"
     ]
    }
   ],
   "source": [
    "p1=School(\"sreenu\",\"tvm\")\n",
    "p1.teacher_details()\n",
    "p2=Student(\"aneesh\",\"maths\")\n",
    "p2.student_details()"
   ]
  }
 ],
 "metadata": {
  "kernelspec": {
   "display_name": "Python 3",
   "language": "python",
   "name": "python3"
  },
  "language_info": {
   "codemirror_mode": {
    "name": "ipython",
    "version": 3
   },
   "file_extension": ".py",
   "mimetype": "text/x-python",
   "name": "python",
   "nbconvert_exporter": "python",
   "pygments_lexer": "ipython3",
   "version": "3.10.8"
  }
 },
 "nbformat": 4,
 "nbformat_minor": 2
}
